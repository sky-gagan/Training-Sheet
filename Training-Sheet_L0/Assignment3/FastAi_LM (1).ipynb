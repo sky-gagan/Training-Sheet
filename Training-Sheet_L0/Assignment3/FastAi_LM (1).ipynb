{
  "cells": [
    {
      "cell_type": "code",
      "source": [
        "# Load your workspace in a brand new environment\r\n",
        "from azureml.core import Workspace\r\n",
        "ws = Workspace.from_config(path=\"./.azureml/ws_config.json\")"
      ],
      "outputs": [],
      "execution_count": 1,
      "metadata": {
        "gather": {
          "logged": 1644474440075
        }
      }
    },
    {
      "cell_type": "code",
      "source": [
        "# import libraries\r\n",
        "import fastai\r\n",
        "from fastai import *\r\n",
        "from fastai.text.all import *\r\n",
        "\r\n",
        "#Import Data\r\n",
        "path = untar_data(URLs.IMDB)\r\n",
        "dls = TextDataLoaders.from_folder(untar_data(URLs.IMDB), valid='test')"
      ],
      "outputs": [],
      "execution_count": 2,
      "metadata": {
        "jupyter": {
          "source_hidden": false,
          "outputs_hidden": false
        },
        "nteract": {
          "transient": {
            "deleting": false
          }
        },
        "gather": {
          "logged": 1644472069089
        }
      }
    },
    {
      "cell_type": "code",
      "source": [
        "#create a leaner and fine tune\r\n",
        "learn = text_classifier_learner(dls, AWD_LSTM, drop_mult=0.5, metrics=accuracy) \r\n",
        "learn.fine_tune(1, 1e-2)"
      ],
      "outputs": [
        {
          "output_type": "display_data",
          "data": {
            "text/plain": "<IPython.core.display.HTML object>",
            "text/html": "<table border=\"1\" class=\"dataframe\">\n  <thead>\n    <tr style=\"text-align: left;\">\n      <th>epoch</th>\n      <th>train_loss</th>\n      <th>valid_loss</th>\n      <th>accuracy</th>\n      <th>time</th>\n    </tr>\n  </thead>\n  <tbody>\n    <tr>\n      <td>0</td>\n      <td>0.458950</td>\n      <td>0.391510</td>\n      <td>0.825000</td>\n      <td>07:23</td>\n    </tr>\n  </tbody>\n</table>"
          },
          "metadata": {}
        },
        {
          "output_type": "display_data",
          "data": {
            "text/plain": "<IPython.core.display.HTML object>",
            "text/html": "<table border=\"1\" class=\"dataframe\">\n  <thead>\n    <tr style=\"text-align: left;\">\n      <th>epoch</th>\n      <th>train_loss</th>\n      <th>valid_loss</th>\n      <th>accuracy</th>\n      <th>time</th>\n    </tr>\n  </thead>\n  <tbody>\n    <tr>\n      <td>0</td>\n      <td>0.278413</td>\n      <td>0.229457</td>\n      <td>0.908640</td>\n      <td>14:45</td>\n    </tr>\n  </tbody>\n</table>"
          },
          "metadata": {}
        }
      ],
      "execution_count": 3,
      "metadata": {
        "jupyter": {
          "source_hidden": false,
          "outputs_hidden": false
        },
        "nteract": {
          "transient": {
            "deleting": false
          }
        },
        "gather": {
          "logged": 1644473409735
        }
      }
    },
    {
      "cell_type": "code",
      "source": [
        "learn.path = Path(os.getcwd())\r\n",
        "learn.export(\"m.pkl\")"
      ],
      "outputs": [],
      "execution_count": 4,
      "metadata": {
        "jupyter": {
          "source_hidden": false,
          "outputs_hidden": false
        },
        "nteract": {
          "transient": {
            "deleting": false
          }
        },
        "gather": {
          "logged": 1644473413242
        }
      }
    },
    {
      "cell_type": "code",
      "source": [
        "#Register Model\r\n",
        "from azureml.core.model import Model\r\n",
        "model = Model.register(workspace=ws, model_path=\"./m.pkl\", model_name=\"FastAI\")\r\n",
        "print(model.name, model.id, model.version, sep='\\t')"
      ],
      "outputs": [
        {
          "output_type": "stream",
          "name": "stdout",
          "text": "Registering model FastAI\nFastAI\tFastAI:2\t2\n"
        }
      ],
      "execution_count": 5,
      "metadata": {
        "jupyter": {
          "source_hidden": false,
          "outputs_hidden": false
        },
        "nteract": {
          "transient": {
            "deleting": false
          }
        },
        "gather": {
          "logged": 1644473422308
        }
      }
    },
    {
      "cell_type": "code",
      "source": [
        "from azureml.core.model import Model\n",
        "model = Model(ws,\"FastAI\")"
      ],
      "outputs": [],
      "execution_count": 4,
      "metadata": {
        "jupyter": {
          "source_hidden": false,
          "outputs_hidden": false
        },
        "nteract": {
          "transient": {
            "deleting": false
          }
        },
        "gather": {
          "logged": 1644474490070
        }
      }
    },
    {
      "cell_type": "code",
      "source": [
        "from azureml.core import Environment\r\n",
        "from azureml.core.model import InferenceConfig\r\n",
        "env = Environment(name='myenv')\r\n",
        "python_packages = ['fastai', 'torch', 'spacy==2.1.8']\r\n",
        "for package in python_packages:\r\n",
        "    env.python.conda_dependencies.add_pip_package(package)\r\n",
        "\r\n",
        "inference_config = InferenceConfig(environment=env, source_directory='./', entry_script='./pred.py')"
      ],
      "outputs": [],
      "execution_count": 5,
      "metadata": {
        "jupyter": {
          "source_hidden": false,
          "outputs_hidden": false
        },
        "nteract": {
          "transient": {
            "deleting": false
          }
        },
        "gather": {
          "logged": 1644474499443
        }
      }
    },
    {
      "cell_type": "code",
      "source": [
        "#ACI Deployment\r\n",
        "\r\n",
        "from azureml.core.webservice import AciWebservice, Webservice\r\n",
        "from azureml.core.model import Model\r\n",
        "\r\n",
        "deployment_config = AciWebservice.deploy_configuration(cpu_cores = 3, memory_gb =1)\r\n",
        "service = Model.deploy(ws, \"aciservice1\", [model], inference_config, deployment_config)\r\n",
        "service.wait_for_deployment(show_output = True)\r\n",
        "print(service.state)"
      ],
      "outputs": [
        {
          "output_type": "stream",
          "name": "stdout",
          "text": "Tips: You can try get_logs(): https://aka.ms/debugimage#dockerlog or local deployment: https://aka.ms/debugimage#debug-locally to debug if deployment takes longer than 10 minutes.\nRunning\n2022-02-10 06:28:52+00:00 Creating Container Registry if not exists.\n2022-02-10 06:28:52+00:00 Registering the environment.\n2022-02-10 06:28:54+00:00 Use the existing image.\n2022-02-10 06:28:54+00:00 Generating deployment configuration.\n2022-02-10 06:28:55+00:00 Submitting deployment to compute.\n2022-02-10 06:29:02+00:00 Checking the status of deployment aciservice1..\n2022-02-10 06:30:03+00:00 Checking the status of inference endpoint aciservice1.\nSucceeded\nACI service creation operation finished, operation \"Succeeded\"\nHealthy\n"
        }
      ],
      "execution_count": 6,
      "metadata": {
        "jupyter": {
          "source_hidden": false,
          "outputs_hidden": false
        },
        "nteract": {
          "transient": {
            "deleting": false
          }
        },
        "gather": {
          "logged": 1644474641442
        }
      }
    },
    {
      "cell_type": "code",
      "source": [],
      "outputs": [],
      "execution_count": null,
      "metadata": {
        "jupyter": {
          "source_hidden": false,
          "outputs_hidden": false
        },
        "nteract": {
          "transient": {
            "deleting": false
          }
        }
      }
    }
  ],
  "metadata": {
    "kernelspec": {
      "name": "python3-azureml",
      "language": "python",
      "display_name": "Python 3.6 - AzureML"
    },
    "language_info": {
      "name": "python",
      "version": "3.6.9",
      "mimetype": "text/x-python",
      "codemirror_mode": {
        "name": "ipython",
        "version": 3
      },
      "pygments_lexer": "ipython3",
      "nbconvert_exporter": "python",
      "file_extension": ".py"
    },
    "kernel_info": {
      "name": "python3-azureml"
    },
    "microsoft": {
      "host": {
        "AzureML": {
          "notebookHasBeenCompleted": true
        }
      }
    },
    "nteract": {
      "version": "nteract-front-end@1.0.0"
    }
  },
  "nbformat": 4,
  "nbformat_minor": 2
}